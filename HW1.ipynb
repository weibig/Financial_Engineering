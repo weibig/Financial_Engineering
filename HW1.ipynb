{
 "cells": [
  {
   "cell_type": "code",
   "execution_count": 91,
   "metadata": {},
   "outputs": [],
   "source": [
    "import math\n",
    "def amortized_loans(principal, year, annual_interest_rate, monthly = 1):\n",
    "    principal_0 = principal\n",
    "    if(monthly == 1):\n",
    "        period = year*12\n",
    "        interest_rate = annual_interest_rate/12\n",
    "    else:\n",
    "        period = year\n",
    "        interest_rate = annual_interest_rate\n",
    " \n",
    "    repayment = math.ceil(principal/(period))\n",
    "    accumulated_period_paid = 0\n",
    "    accumulated_interest = 0\n",
    "    \n",
    "    print(\"           Principal   Interest   Accumulated Interest\")\n",
    "    print(\"------------------------------------------------------\")\n",
    "    for i in range(period):\n",
    "        if repayment > principal:\n",
    "            repayment = principal\n",
    "        period_interest = math.ceil(interest_rate*(principal) )\n",
    "        accumulated_interest += period_interest\n",
    "        period_paid = repayment + period_interest\n",
    "        principal -= repayment\n",
    "        accumulated_period_paid += period_paid\n",
    "        \n",
    "        print(\"Period\", i+1, \" : \", repayment, \"   ,   \", period_interest, \"   ,   \", accumulated_period_paid )\n",
    "        \n",
    "    print(\"\\n===================== Summary =====================\")\n",
    "    print(\"Principal:\", principal_0)\n",
    "    print(\"Period:\", year)\n",
    "    print(\"Period repayment:\",math.ceil(principal_0/period))\n",
    "    print(\"Accumulated interest:\",accumulated_interest)"
   ]
  },
  {
   "cell_type": "code",
   "execution_count": 92,
   "metadata": {},
   "outputs": [
    {
     "name": "stdout",
     "output_type": "stream",
     "text": [
      "           Principal   Interest   Accumulated Interest\n",
      "------------------------------------------------------\n",
      "Period 1  :  8334    ,    250    ,    8584\n",
      "Period 2  :  8334    ,    230    ,    17148\n",
      "Period 3  :  8334    ,    209    ,    25691\n",
      "Period 4  :  8334    ,    188    ,    34213\n",
      "Period 5  :  8334    ,    167    ,    42714\n",
      "Period 6  :  8334    ,    146    ,    51194\n",
      "Period 7  :  8334    ,    125    ,    59653\n",
      "Period 8  :  8334    ,    105    ,    68092\n",
      "Period 9  :  8334    ,    84    ,    76510\n",
      "Period 10  :  8334    ,    63    ,    84907\n",
      "Period 11  :  8334    ,    42    ,    93283\n",
      "Period 12  :  8326    ,    21    ,    101630\n",
      "\n",
      "===================== Summary =====================\n",
      "Principal: 100000\n",
      "Period: 1\n",
      "Period repayment: 8334\n",
      "Accumulated interest: 1630\n"
     ]
    }
   ],
   "source": [
    "amortized_loans(100000,1,0.03)"
   ]
  },
  {
   "cell_type": "code",
   "execution_count": null,
   "metadata": {},
   "outputs": [],
   "source": []
  },
  {
   "cell_type": "code",
   "execution_count": null,
   "metadata": {},
   "outputs": [],
   "source": []
  },
  {
   "cell_type": "code",
   "execution_count": null,
   "metadata": {},
   "outputs": [],
   "source": []
  }
 ],
 "metadata": {
  "kernelspec": {
   "display_name": "Python 3",
   "language": "python",
   "name": "python3"
  },
  "language_info": {
   "codemirror_mode": {
    "name": "ipython",
    "version": 3
   },
   "file_extension": ".py",
   "mimetype": "text/x-python",
   "name": "python",
   "nbconvert_exporter": "python",
   "pygments_lexer": "ipython3",
   "version": "3.7.3"
  }
 },
 "nbformat": 4,
 "nbformat_minor": 2
}
